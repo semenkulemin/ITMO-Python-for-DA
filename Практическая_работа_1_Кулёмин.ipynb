{
  "cells": [
    {
      "cell_type": "code",
      "execution_count": null,
      "metadata": {
        "id": "vvDTCIaZkt5O"
      },
      "outputs": [],
      "source": [
        "import pandas as pd\n",
        "import numpy as np\n",
        "import warnings\n",
        "import torch\n",
        "from torch import autograd\n",
        "import matplotlib.pyplot as plt\n",
        "from scipy.optimize import minimize_scalar\n",
        "\n",
        "warnings.filterwarnings('ignore')"
      ]
    },
    {
      "cell_type": "markdown",
      "metadata": {
        "id": "CB36apAYJjfe"
      },
      "source": [
        "#Задание 1 (pandas)"
      ]
    },
    {
      "cell_type": "markdown",
      "metadata": {
        "id": "gXG3QdhVLmkk"
      },
      "source": [
        "Для выполнения заданий возьмите данные из папки [data](https://drive.google.com/drive/folders/17E4vB5kWr5FNjLKRU4XGoJSVTxn1jkg4?usp=sharing) о продажах. Данные распределены по 4 файлам:\n",
        "* sales_train.csv - данные о продажах с января 2013 по октябрь 2015.\n",
        "** date - дата продажы\n",
        "** date_block_num - номер месяца по порядку следования\n",
        "** shop_id - идентификатор магазина\n",
        "** item_id - идентификатор товара\n",
        "** item_price - цена товара\n",
        "** item_cnt_day - количество проданного товара одного вида в день\n",
        "\n",
        "* items.csv - подробная информация о товарах\n",
        "** item_id - идентификатор товара\n",
        "** item_name - название товара\n",
        "** category_id - идентификатор категории товара\n",
        "\n",
        "* item_categories.csv - подробная информация о категориях товаров\n",
        "** item_category_id - идентификатор категории товара\n",
        "** category_name - название категории товара\n",
        "\n",
        "* shops.csv - подробная информация о магазинах\n",
        "** shop_id - идентификатор магазина\n",
        "** shop_name - название магазина\n"
      ]
    },
    {
      "cell_type": "code",
      "execution_count": null,
      "metadata": {
        "id": "lsP119VEfHJ6"
      },
      "outputs": [],
      "source": [
        "from pydrive.auth import GoogleAuth\n",
        "from pydrive.drive import GoogleDrive\n",
        "from google.colab import auth\n",
        "from oauth2client.client import GoogleCredentials"
      ]
    },
    {
      "cell_type": "code",
      "execution_count": null,
      "metadata": {
        "id": "vep6OaVtkcSb"
      },
      "outputs": [],
      "source": [
        "auth.authenticate_user()\n",
        "gauth = GoogleAuth()\n",
        "gauth.credentials = GoogleCredentials.get_application_default()\n",
        "drive = GoogleDrive(gauth)"
      ]
    },
    {
      "cell_type": "code",
      "execution_count": null,
      "metadata": {
        "id": "6UvHccFNfIhY"
      },
      "outputs": [],
      "source": [
        "downloaded = drive.CreateFile({'id':\"1XNbvt_Sqf8RVuCJEi4taWU7pPjYheppt\"})\n",
        "downloaded.GetContentFile('item_categories.csv')\n",
        "downloaded = drive.CreateFile({'id':\"1ovTp6MMef5oHs8kPQ-k5tsq1QHsGfcso\"})\n",
        "downloaded.GetContentFile('items.csv')\n",
        "downloaded = drive.CreateFile({'id':\"1shLPYMyXRbDmRn_btXoNptcQkWMhS6Af\"})\n",
        "downloaded.GetContentFile('sales_train.csv')\n",
        "downloaded = drive.CreateFile({'id':\"1hgJ2oKouYHenN-SpU-dUZH7QKaJHBEop\"})\n",
        "downloaded.GetContentFile('shops.csv')"
      ]
    },
    {
      "cell_type": "code",
      "execution_count": null,
      "metadata": {
        "id": "C2CUMvtTkjLk"
      },
      "outputs": [],
      "source": [
        "item_categories = pd.read_csv('item_categories.csv')\n",
        "items = pd.read_csv('items.csv')\n",
        "sales_train = pd.read_csv('sales_train.csv')\n",
        "shops = pd.read_csv('shops.csv')"
      ]
    },
    {
      "cell_type": "markdown",
      "metadata": {
        "id": "X5oEdrHBJ9t8"
      },
      "source": [
        "## Задание 1.1"
      ]
    },
    {
      "cell_type": "markdown",
      "metadata": {
        "id": "8tjm8ZhmKCDv"
      },
      "source": [
        "1. Найдите топ-10 самых часто покупаемых товаров (не забудьте учесть столбец item_cnt_day).\n",
        "2. Оставьте только те из них, которые покупали все три года (2013, 2014, 2015)."
      ]
    },
    {
      "cell_type": "code",
      "execution_count": null,
      "metadata": {
        "colab": {
          "base_uri": "https://localhost:8080/",
          "height": 380
        },
        "id": "Nz-w7ycDoLAh",
        "outputId": "b1671304-fdf0-4dbd-e887-a0ed07df3cc1"
      },
      "outputs": [
        {
          "output_type": "stream",
          "name": "stdout",
          "text": [
            "Топ-10 самых часто покупаемых товаров\n"
          ]
        },
        {
          "output_type": "execute_result",
          "data": {
            "text/plain": [
              "   item_id  item_cnt_day                                          item_name  \\\n",
              "0    20949      187642.0  Corporate package T-shirt 1C Interest white (3...   \n",
              "1     2808       17245.0            Diablo III [PC, Jewel, Russian version]   \n",
              "2     3732       16642.0        Grand Theft Auto V [PS3, Russian subtitles]   \n",
              "3    17717       15830.0                  Acceptance of funds for 1C-Online   \n",
              "4     5822       14515.0  Playstation Store replenishment of wallet: Pay...   \n",
              "5     3734       11688.0   Grand Theft Auto V [Xbox 360, Russian subtitles]   \n",
              "6     6675       10289.0  Sony PlayStation 4 (500 Gb) Black (CUH-1008A/1...   \n",
              "7     3731       10099.0         Grand Theft Auto V [PC, Russian subtitles]   \n",
              "8     1855       10032.0                Battlefield 4 [PC, Russian version]   \n",
              "9    16787        9227.0                  Some of us [PS3, Russian version]   \n",
              "\n",
              "   category_id  \n",
              "0           71  \n",
              "1           30  \n",
              "2           19  \n",
              "3           79  \n",
              "4           35  \n",
              "5           23  \n",
              "6           12  \n",
              "7           30  \n",
              "8           30  \n",
              "9           19  "
            ],
            "text/html": [
              "\n",
              "  <div id=\"df-7ab10938-3f84-4f2d-be7a-df54dceef0e4\">\n",
              "    <div class=\"colab-df-container\">\n",
              "      <div>\n",
              "<style scoped>\n",
              "    .dataframe tbody tr th:only-of-type {\n",
              "        vertical-align: middle;\n",
              "    }\n",
              "\n",
              "    .dataframe tbody tr th {\n",
              "        vertical-align: top;\n",
              "    }\n",
              "\n",
              "    .dataframe thead th {\n",
              "        text-align: right;\n",
              "    }\n",
              "</style>\n",
              "<table border=\"1\" class=\"dataframe\">\n",
              "  <thead>\n",
              "    <tr style=\"text-align: right;\">\n",
              "      <th></th>\n",
              "      <th>item_id</th>\n",
              "      <th>item_cnt_day</th>\n",
              "      <th>item_name</th>\n",
              "      <th>category_id</th>\n",
              "    </tr>\n",
              "  </thead>\n",
              "  <tbody>\n",
              "    <tr>\n",
              "      <th>0</th>\n",
              "      <td>20949</td>\n",
              "      <td>187642.0</td>\n",
              "      <td>Corporate package T-shirt 1C Interest white (3...</td>\n",
              "      <td>71</td>\n",
              "    </tr>\n",
              "    <tr>\n",
              "      <th>1</th>\n",
              "      <td>2808</td>\n",
              "      <td>17245.0</td>\n",
              "      <td>Diablo III [PC, Jewel, Russian version]</td>\n",
              "      <td>30</td>\n",
              "    </tr>\n",
              "    <tr>\n",
              "      <th>2</th>\n",
              "      <td>3732</td>\n",
              "      <td>16642.0</td>\n",
              "      <td>Grand Theft Auto V [PS3, Russian subtitles]</td>\n",
              "      <td>19</td>\n",
              "    </tr>\n",
              "    <tr>\n",
              "      <th>3</th>\n",
              "      <td>17717</td>\n",
              "      <td>15830.0</td>\n",
              "      <td>Acceptance of funds for 1C-Online</td>\n",
              "      <td>79</td>\n",
              "    </tr>\n",
              "    <tr>\n",
              "      <th>4</th>\n",
              "      <td>5822</td>\n",
              "      <td>14515.0</td>\n",
              "      <td>Playstation Store replenishment of wallet: Pay...</td>\n",
              "      <td>35</td>\n",
              "    </tr>\n",
              "    <tr>\n",
              "      <th>5</th>\n",
              "      <td>3734</td>\n",
              "      <td>11688.0</td>\n",
              "      <td>Grand Theft Auto V [Xbox 360, Russian subtitles]</td>\n",
              "      <td>23</td>\n",
              "    </tr>\n",
              "    <tr>\n",
              "      <th>6</th>\n",
              "      <td>6675</td>\n",
              "      <td>10289.0</td>\n",
              "      <td>Sony PlayStation 4 (500 Gb) Black (CUH-1008A/1...</td>\n",
              "      <td>12</td>\n",
              "    </tr>\n",
              "    <tr>\n",
              "      <th>7</th>\n",
              "      <td>3731</td>\n",
              "      <td>10099.0</td>\n",
              "      <td>Grand Theft Auto V [PC, Russian subtitles]</td>\n",
              "      <td>30</td>\n",
              "    </tr>\n",
              "    <tr>\n",
              "      <th>8</th>\n",
              "      <td>1855</td>\n",
              "      <td>10032.0</td>\n",
              "      <td>Battlefield 4 [PC, Russian version]</td>\n",
              "      <td>30</td>\n",
              "    </tr>\n",
              "    <tr>\n",
              "      <th>9</th>\n",
              "      <td>16787</td>\n",
              "      <td>9227.0</td>\n",
              "      <td>Some of us [PS3, Russian version]</td>\n",
              "      <td>19</td>\n",
              "    </tr>\n",
              "  </tbody>\n",
              "</table>\n",
              "</div>\n",
              "      <button class=\"colab-df-convert\" onclick=\"convertToInteractive('df-7ab10938-3f84-4f2d-be7a-df54dceef0e4')\"\n",
              "              title=\"Convert this dataframe to an interactive table.\"\n",
              "              style=\"display:none;\">\n",
              "        \n",
              "  <svg xmlns=\"http://www.w3.org/2000/svg\" height=\"24px\"viewBox=\"0 0 24 24\"\n",
              "       width=\"24px\">\n",
              "    <path d=\"M0 0h24v24H0V0z\" fill=\"none\"/>\n",
              "    <path d=\"M18.56 5.44l.94 2.06.94-2.06 2.06-.94-2.06-.94-.94-2.06-.94 2.06-2.06.94zm-11 1L8.5 8.5l.94-2.06 2.06-.94-2.06-.94L8.5 2.5l-.94 2.06-2.06.94zm10 10l.94 2.06.94-2.06 2.06-.94-2.06-.94-.94-2.06-.94 2.06-2.06.94z\"/><path d=\"M17.41 7.96l-1.37-1.37c-.4-.4-.92-.59-1.43-.59-.52 0-1.04.2-1.43.59L10.3 9.45l-7.72 7.72c-.78.78-.78 2.05 0 2.83L4 21.41c.39.39.9.59 1.41.59.51 0 1.02-.2 1.41-.59l7.78-7.78 2.81-2.81c.8-.78.8-2.07 0-2.86zM5.41 20L4 18.59l7.72-7.72 1.47 1.35L5.41 20z\"/>\n",
              "  </svg>\n",
              "      </button>\n",
              "      \n",
              "  <style>\n",
              "    .colab-df-container {\n",
              "      display:flex;\n",
              "      flex-wrap:wrap;\n",
              "      gap: 12px;\n",
              "    }\n",
              "\n",
              "    .colab-df-convert {\n",
              "      background-color: #E8F0FE;\n",
              "      border: none;\n",
              "      border-radius: 50%;\n",
              "      cursor: pointer;\n",
              "      display: none;\n",
              "      fill: #1967D2;\n",
              "      height: 32px;\n",
              "      padding: 0 0 0 0;\n",
              "      width: 32px;\n",
              "    }\n",
              "\n",
              "    .colab-df-convert:hover {\n",
              "      background-color: #E2EBFA;\n",
              "      box-shadow: 0px 1px 2px rgba(60, 64, 67, 0.3), 0px 1px 3px 1px rgba(60, 64, 67, 0.15);\n",
              "      fill: #174EA6;\n",
              "    }\n",
              "\n",
              "    [theme=dark] .colab-df-convert {\n",
              "      background-color: #3B4455;\n",
              "      fill: #D2E3FC;\n",
              "    }\n",
              "\n",
              "    [theme=dark] .colab-df-convert:hover {\n",
              "      background-color: #434B5C;\n",
              "      box-shadow: 0px 1px 3px 1px rgba(0, 0, 0, 0.15);\n",
              "      filter: drop-shadow(0px 1px 2px rgba(0, 0, 0, 0.3));\n",
              "      fill: #FFFFFF;\n",
              "    }\n",
              "  </style>\n",
              "\n",
              "      <script>\n",
              "        const buttonEl =\n",
              "          document.querySelector('#df-7ab10938-3f84-4f2d-be7a-df54dceef0e4 button.colab-df-convert');\n",
              "        buttonEl.style.display =\n",
              "          google.colab.kernel.accessAllowed ? 'block' : 'none';\n",
              "\n",
              "        async function convertToInteractive(key) {\n",
              "          const element = document.querySelector('#df-7ab10938-3f84-4f2d-be7a-df54dceef0e4');\n",
              "          const dataTable =\n",
              "            await google.colab.kernel.invokeFunction('convertToInteractive',\n",
              "                                                     [key], {});\n",
              "          if (!dataTable) return;\n",
              "\n",
              "          const docLinkHtml = 'Like what you see? Visit the ' +\n",
              "            '<a target=\"_blank\" href=https://colab.research.google.com/notebooks/data_table.ipynb>data table notebook</a>'\n",
              "            + ' to learn more about interactive tables.';\n",
              "          element.innerHTML = '';\n",
              "          dataTable['output_type'] = 'display_data';\n",
              "          await google.colab.output.renderOutput(dataTable, element);\n",
              "          const docLink = document.createElement('div');\n",
              "          docLink.innerHTML = docLinkHtml;\n",
              "          element.appendChild(docLink);\n",
              "        }\n",
              "      </script>\n",
              "    </div>\n",
              "  </div>\n",
              "  "
            ]
          },
          "metadata": {},
          "execution_count": 6
        }
      ],
      "source": [
        "res1 = sales_train.groupby('item_id')['item_cnt_day'].agg(sum).reset_index().sort_values(by='item_cnt_day', ascending=False).head(10)\n",
        "res1 = res1.merge(items)\n",
        "print('Топ-10 самых часто покупаемых товаров')\n",
        "res1"
      ]
    },
    {
      "cell_type": "code",
      "execution_count": null,
      "metadata": {
        "colab": {
          "base_uri": "https://localhost:8080/",
          "height": 349
        },
        "id": "ffWczkskpeMn",
        "outputId": "6fdd873a-1ada-400c-9448-b407d87dda14"
      },
      "outputs": [
        {
          "output_type": "stream",
          "name": "stdout",
          "text": [
            "Товары, которые покупали все три года\n"
          ]
        },
        {
          "output_type": "execute_result",
          "data": {
            "text/plain": [
              "   item_id  item_cnt_day                                          item_name  \\\n",
              "0    20949      187642.0  Corporate package T-shirt 1C Interest white (3...   \n",
              "1     2808       17245.0            Diablo III [PC, Jewel, Russian version]   \n",
              "2     3732       16642.0        Grand Theft Auto V [PS3, Russian subtitles]   \n",
              "3    17717       15830.0                  Acceptance of funds for 1C-Online   \n",
              "4     5822       14515.0  Playstation Store replenishment of wallet: Pay...   \n",
              "5     3734       11688.0   Grand Theft Auto V [Xbox 360, Russian subtitles]   \n",
              "6     6675       10289.0  Sony PlayStation 4 (500 Gb) Black (CUH-1008A/1...   \n",
              "8     1855       10032.0                Battlefield 4 [PC, Russian version]   \n",
              "9    16787        9227.0                  Some of us [PS3, Russian version]   \n",
              "\n",
              "   category_id  flag2013  flag2014  flag2015  \n",
              "0           71      True      True      True  \n",
              "1           30      True      True      True  \n",
              "2           19      True      True      True  \n",
              "3           79      True      True      True  \n",
              "4           35      True      True      True  \n",
              "5           23      True      True      True  \n",
              "6           12      True      True      True  \n",
              "8           30      True      True      True  \n",
              "9           19      True      True      True  "
            ],
            "text/html": [
              "\n",
              "  <div id=\"df-89183289-1190-4af3-b5b0-9df3c1b73a7b\">\n",
              "    <div class=\"colab-df-container\">\n",
              "      <div>\n",
              "<style scoped>\n",
              "    .dataframe tbody tr th:only-of-type {\n",
              "        vertical-align: middle;\n",
              "    }\n",
              "\n",
              "    .dataframe tbody tr th {\n",
              "        vertical-align: top;\n",
              "    }\n",
              "\n",
              "    .dataframe thead th {\n",
              "        text-align: right;\n",
              "    }\n",
              "</style>\n",
              "<table border=\"1\" class=\"dataframe\">\n",
              "  <thead>\n",
              "    <tr style=\"text-align: right;\">\n",
              "      <th></th>\n",
              "      <th>item_id</th>\n",
              "      <th>item_cnt_day</th>\n",
              "      <th>item_name</th>\n",
              "      <th>category_id</th>\n",
              "      <th>flag2013</th>\n",
              "      <th>flag2014</th>\n",
              "      <th>flag2015</th>\n",
              "    </tr>\n",
              "  </thead>\n",
              "  <tbody>\n",
              "    <tr>\n",
              "      <th>0</th>\n",
              "      <td>20949</td>\n",
              "      <td>187642.0</td>\n",
              "      <td>Corporate package T-shirt 1C Interest white (3...</td>\n",
              "      <td>71</td>\n",
              "      <td>True</td>\n",
              "      <td>True</td>\n",
              "      <td>True</td>\n",
              "    </tr>\n",
              "    <tr>\n",
              "      <th>1</th>\n",
              "      <td>2808</td>\n",
              "      <td>17245.0</td>\n",
              "      <td>Diablo III [PC, Jewel, Russian version]</td>\n",
              "      <td>30</td>\n",
              "      <td>True</td>\n",
              "      <td>True</td>\n",
              "      <td>True</td>\n",
              "    </tr>\n",
              "    <tr>\n",
              "      <th>2</th>\n",
              "      <td>3732</td>\n",
              "      <td>16642.0</td>\n",
              "      <td>Grand Theft Auto V [PS3, Russian subtitles]</td>\n",
              "      <td>19</td>\n",
              "      <td>True</td>\n",
              "      <td>True</td>\n",
              "      <td>True</td>\n",
              "    </tr>\n",
              "    <tr>\n",
              "      <th>3</th>\n",
              "      <td>17717</td>\n",
              "      <td>15830.0</td>\n",
              "      <td>Acceptance of funds for 1C-Online</td>\n",
              "      <td>79</td>\n",
              "      <td>True</td>\n",
              "      <td>True</td>\n",
              "      <td>True</td>\n",
              "    </tr>\n",
              "    <tr>\n",
              "      <th>4</th>\n",
              "      <td>5822</td>\n",
              "      <td>14515.0</td>\n",
              "      <td>Playstation Store replenishment of wallet: Pay...</td>\n",
              "      <td>35</td>\n",
              "      <td>True</td>\n",
              "      <td>True</td>\n",
              "      <td>True</td>\n",
              "    </tr>\n",
              "    <tr>\n",
              "      <th>5</th>\n",
              "      <td>3734</td>\n",
              "      <td>11688.0</td>\n",
              "      <td>Grand Theft Auto V [Xbox 360, Russian subtitles]</td>\n",
              "      <td>23</td>\n",
              "      <td>True</td>\n",
              "      <td>True</td>\n",
              "      <td>True</td>\n",
              "    </tr>\n",
              "    <tr>\n",
              "      <th>6</th>\n",
              "      <td>6675</td>\n",
              "      <td>10289.0</td>\n",
              "      <td>Sony PlayStation 4 (500 Gb) Black (CUH-1008A/1...</td>\n",
              "      <td>12</td>\n",
              "      <td>True</td>\n",
              "      <td>True</td>\n",
              "      <td>True</td>\n",
              "    </tr>\n",
              "    <tr>\n",
              "      <th>8</th>\n",
              "      <td>1855</td>\n",
              "      <td>10032.0</td>\n",
              "      <td>Battlefield 4 [PC, Russian version]</td>\n",
              "      <td>30</td>\n",
              "      <td>True</td>\n",
              "      <td>True</td>\n",
              "      <td>True</td>\n",
              "    </tr>\n",
              "    <tr>\n",
              "      <th>9</th>\n",
              "      <td>16787</td>\n",
              "      <td>9227.0</td>\n",
              "      <td>Some of us [PS3, Russian version]</td>\n",
              "      <td>19</td>\n",
              "      <td>True</td>\n",
              "      <td>True</td>\n",
              "      <td>True</td>\n",
              "    </tr>\n",
              "  </tbody>\n",
              "</table>\n",
              "</div>\n",
              "      <button class=\"colab-df-convert\" onclick=\"convertToInteractive('df-89183289-1190-4af3-b5b0-9df3c1b73a7b')\"\n",
              "              title=\"Convert this dataframe to an interactive table.\"\n",
              "              style=\"display:none;\">\n",
              "        \n",
              "  <svg xmlns=\"http://www.w3.org/2000/svg\" height=\"24px\"viewBox=\"0 0 24 24\"\n",
              "       width=\"24px\">\n",
              "    <path d=\"M0 0h24v24H0V0z\" fill=\"none\"/>\n",
              "    <path d=\"M18.56 5.44l.94 2.06.94-2.06 2.06-.94-2.06-.94-.94-2.06-.94 2.06-2.06.94zm-11 1L8.5 8.5l.94-2.06 2.06-.94-2.06-.94L8.5 2.5l-.94 2.06-2.06.94zm10 10l.94 2.06.94-2.06 2.06-.94-2.06-.94-.94-2.06-.94 2.06-2.06.94z\"/><path d=\"M17.41 7.96l-1.37-1.37c-.4-.4-.92-.59-1.43-.59-.52 0-1.04.2-1.43.59L10.3 9.45l-7.72 7.72c-.78.78-.78 2.05 0 2.83L4 21.41c.39.39.9.59 1.41.59.51 0 1.02-.2 1.41-.59l7.78-7.78 2.81-2.81c.8-.78.8-2.07 0-2.86zM5.41 20L4 18.59l7.72-7.72 1.47 1.35L5.41 20z\"/>\n",
              "  </svg>\n",
              "      </button>\n",
              "      \n",
              "  <style>\n",
              "    .colab-df-container {\n",
              "      display:flex;\n",
              "      flex-wrap:wrap;\n",
              "      gap: 12px;\n",
              "    }\n",
              "\n",
              "    .colab-df-convert {\n",
              "      background-color: #E8F0FE;\n",
              "      border: none;\n",
              "      border-radius: 50%;\n",
              "      cursor: pointer;\n",
              "      display: none;\n",
              "      fill: #1967D2;\n",
              "      height: 32px;\n",
              "      padding: 0 0 0 0;\n",
              "      width: 32px;\n",
              "    }\n",
              "\n",
              "    .colab-df-convert:hover {\n",
              "      background-color: #E2EBFA;\n",
              "      box-shadow: 0px 1px 2px rgba(60, 64, 67, 0.3), 0px 1px 3px 1px rgba(60, 64, 67, 0.15);\n",
              "      fill: #174EA6;\n",
              "    }\n",
              "\n",
              "    [theme=dark] .colab-df-convert {\n",
              "      background-color: #3B4455;\n",
              "      fill: #D2E3FC;\n",
              "    }\n",
              "\n",
              "    [theme=dark] .colab-df-convert:hover {\n",
              "      background-color: #434B5C;\n",
              "      box-shadow: 0px 1px 3px 1px rgba(0, 0, 0, 0.15);\n",
              "      filter: drop-shadow(0px 1px 2px rgba(0, 0, 0, 0.3));\n",
              "      fill: #FFFFFF;\n",
              "    }\n",
              "  </style>\n",
              "\n",
              "      <script>\n",
              "        const buttonEl =\n",
              "          document.querySelector('#df-89183289-1190-4af3-b5b0-9df3c1b73a7b button.colab-df-convert');\n",
              "        buttonEl.style.display =\n",
              "          google.colab.kernel.accessAllowed ? 'block' : 'none';\n",
              "\n",
              "        async function convertToInteractive(key) {\n",
              "          const element = document.querySelector('#df-89183289-1190-4af3-b5b0-9df3c1b73a7b');\n",
              "          const dataTable =\n",
              "            await google.colab.kernel.invokeFunction('convertToInteractive',\n",
              "                                                     [key], {});\n",
              "          if (!dataTable) return;\n",
              "\n",
              "          const docLinkHtml = 'Like what you see? Visit the ' +\n",
              "            '<a target=\"_blank\" href=https://colab.research.google.com/notebooks/data_table.ipynb>data table notebook</a>'\n",
              "            + ' to learn more about interactive tables.';\n",
              "          element.innerHTML = '';\n",
              "          dataTable['output_type'] = 'display_data';\n",
              "          await google.colab.output.renderOutput(dataTable, element);\n",
              "          const docLink = document.createElement('div');\n",
              "          docLink.innerHTML = docLinkHtml;\n",
              "          element.appendChild(docLink);\n",
              "        }\n",
              "      </script>\n",
              "    </div>\n",
              "  </div>\n",
              "  "
            ]
          },
          "metadata": {},
          "execution_count": 7
        }
      ],
      "source": [
        "res1['flag2013'] = res1.apply(lambda x: len(sales_train[(sales_train['item_id'] == x['item_id']) & (sales_train['date_block_num'].between(0, 11, inclusive=True))]) > 0, axis=1)\n",
        "res1['flag2014'] = res1.apply(lambda x: len(sales_train[(sales_train['item_id'] == x['item_id']) & (sales_train['date_block_num'].between(12, 23, inclusive=True))]) > 0, axis=1)\n",
        "res1['flag2015'] = res1.apply(lambda x: len(sales_train[(sales_train['item_id'] == x['item_id']) & (sales_train['date_block_num'].between(24, 35, inclusive=True))]) > 0, axis=1)\n",
        "res1 = res1[(res1['flag2013'] == True) & (res1['flag2014'] == True) & (res1['flag2015'] == True)]\n",
        "print('Товары, которые покупали все три года')\n",
        "res1"
      ]
    },
    {
      "cell_type": "markdown",
      "metadata": {
        "id": "oaood23UKK5e"
      },
      "source": [
        "## Задание 1.2"
      ]
    },
    {
      "cell_type": "markdown",
      "metadata": {
        "id": "6fKaQTb0KK5f"
      },
      "source": [
        "1. Определите категорию товаров, в которой совершается минимальное число покупок. Выведите айди и название категории.\n",
        "2. Определите категорию товаров, в которой совершается максимальное число покупок. Выведите айди и название категории.\n",
        "\n",
        "*Если таких категорий несколько, выведите все.*"
      ]
    },
    {
      "cell_type": "code",
      "execution_count": null,
      "metadata": {
        "id": "bc9NvOGjKK5g"
      },
      "outputs": [],
      "source": [
        "item_categories = item_categories.rename(columns={\"item_category_id\": \"category_id\"})\n",
        "sales_train = sales_train.merge(items).merge(item_categories).merge(shops)"
      ]
    },
    {
      "cell_type": "code",
      "execution_count": null,
      "metadata": {
        "id": "SKRR89oE5zle"
      },
      "outputs": [],
      "source": [
        "sorted = sales_train.groupby('category_id')['item_cnt_day'].agg(sum).sort_values().reset_index()"
      ]
    },
    {
      "cell_type": "code",
      "source": [
        "print('Категория товаров, в которой совершается минимальное число покупок')\n",
        "min_category = sorted[sorted['item_cnt_day'] == sorted['item_cnt_day'].min()].merge(item_categories)\n",
        "min_category"
      ],
      "metadata": {
        "colab": {
          "base_uri": "https://localhost:8080/",
          "height": 129
        },
        "id": "E3xFENyuFOeB",
        "outputId": "87b12a5e-be7a-446f-b875-f1a064b8c8a3"
      },
      "execution_count": null,
      "outputs": [
        {
          "output_type": "stream",
          "name": "stdout",
          "text": [
            "Категория товаров, в которой совершается минимальное число покупок\n"
          ]
        },
        {
          "output_type": "execute_result",
          "data": {
            "text/plain": [
              "   category_id  item_cnt_day             item_category_name\n",
              "0           51           1.0   Books - Cognitive literature\n",
              "1           10           1.0            Game consoles - PS2"
            ],
            "text/html": [
              "\n",
              "  <div id=\"df-f1fa4b4c-4ab9-48f0-a9f8-ca0f6b287f69\">\n",
              "    <div class=\"colab-df-container\">\n",
              "      <div>\n",
              "<style scoped>\n",
              "    .dataframe tbody tr th:only-of-type {\n",
              "        vertical-align: middle;\n",
              "    }\n",
              "\n",
              "    .dataframe tbody tr th {\n",
              "        vertical-align: top;\n",
              "    }\n",
              "\n",
              "    .dataframe thead th {\n",
              "        text-align: right;\n",
              "    }\n",
              "</style>\n",
              "<table border=\"1\" class=\"dataframe\">\n",
              "  <thead>\n",
              "    <tr style=\"text-align: right;\">\n",
              "      <th></th>\n",
              "      <th>category_id</th>\n",
              "      <th>item_cnt_day</th>\n",
              "      <th>item_category_name</th>\n",
              "    </tr>\n",
              "  </thead>\n",
              "  <tbody>\n",
              "    <tr>\n",
              "      <th>0</th>\n",
              "      <td>51</td>\n",
              "      <td>1.0</td>\n",
              "      <td>Books - Cognitive literature</td>\n",
              "    </tr>\n",
              "    <tr>\n",
              "      <th>1</th>\n",
              "      <td>10</td>\n",
              "      <td>1.0</td>\n",
              "      <td>Game consoles - PS2</td>\n",
              "    </tr>\n",
              "  </tbody>\n",
              "</table>\n",
              "</div>\n",
              "      <button class=\"colab-df-convert\" onclick=\"convertToInteractive('df-f1fa4b4c-4ab9-48f0-a9f8-ca0f6b287f69')\"\n",
              "              title=\"Convert this dataframe to an interactive table.\"\n",
              "              style=\"display:none;\">\n",
              "        \n",
              "  <svg xmlns=\"http://www.w3.org/2000/svg\" height=\"24px\"viewBox=\"0 0 24 24\"\n",
              "       width=\"24px\">\n",
              "    <path d=\"M0 0h24v24H0V0z\" fill=\"none\"/>\n",
              "    <path d=\"M18.56 5.44l.94 2.06.94-2.06 2.06-.94-2.06-.94-.94-2.06-.94 2.06-2.06.94zm-11 1L8.5 8.5l.94-2.06 2.06-.94-2.06-.94L8.5 2.5l-.94 2.06-2.06.94zm10 10l.94 2.06.94-2.06 2.06-.94-2.06-.94-.94-2.06-.94 2.06-2.06.94z\"/><path d=\"M17.41 7.96l-1.37-1.37c-.4-.4-.92-.59-1.43-.59-.52 0-1.04.2-1.43.59L10.3 9.45l-7.72 7.72c-.78.78-.78 2.05 0 2.83L4 21.41c.39.39.9.59 1.41.59.51 0 1.02-.2 1.41-.59l7.78-7.78 2.81-2.81c.8-.78.8-2.07 0-2.86zM5.41 20L4 18.59l7.72-7.72 1.47 1.35L5.41 20z\"/>\n",
              "  </svg>\n",
              "      </button>\n",
              "      \n",
              "  <style>\n",
              "    .colab-df-container {\n",
              "      display:flex;\n",
              "      flex-wrap:wrap;\n",
              "      gap: 12px;\n",
              "    }\n",
              "\n",
              "    .colab-df-convert {\n",
              "      background-color: #E8F0FE;\n",
              "      border: none;\n",
              "      border-radius: 50%;\n",
              "      cursor: pointer;\n",
              "      display: none;\n",
              "      fill: #1967D2;\n",
              "      height: 32px;\n",
              "      padding: 0 0 0 0;\n",
              "      width: 32px;\n",
              "    }\n",
              "\n",
              "    .colab-df-convert:hover {\n",
              "      background-color: #E2EBFA;\n",
              "      box-shadow: 0px 1px 2px rgba(60, 64, 67, 0.3), 0px 1px 3px 1px rgba(60, 64, 67, 0.15);\n",
              "      fill: #174EA6;\n",
              "    }\n",
              "\n",
              "    [theme=dark] .colab-df-convert {\n",
              "      background-color: #3B4455;\n",
              "      fill: #D2E3FC;\n",
              "    }\n",
              "\n",
              "    [theme=dark] .colab-df-convert:hover {\n",
              "      background-color: #434B5C;\n",
              "      box-shadow: 0px 1px 3px 1px rgba(0, 0, 0, 0.15);\n",
              "      filter: drop-shadow(0px 1px 2px rgba(0, 0, 0, 0.3));\n",
              "      fill: #FFFFFF;\n",
              "    }\n",
              "  </style>\n",
              "\n",
              "      <script>\n",
              "        const buttonEl =\n",
              "          document.querySelector('#df-f1fa4b4c-4ab9-48f0-a9f8-ca0f6b287f69 button.colab-df-convert');\n",
              "        buttonEl.style.display =\n",
              "          google.colab.kernel.accessAllowed ? 'block' : 'none';\n",
              "\n",
              "        async function convertToInteractive(key) {\n",
              "          const element = document.querySelector('#df-f1fa4b4c-4ab9-48f0-a9f8-ca0f6b287f69');\n",
              "          const dataTable =\n",
              "            await google.colab.kernel.invokeFunction('convertToInteractive',\n",
              "                                                     [key], {});\n",
              "          if (!dataTable) return;\n",
              "\n",
              "          const docLinkHtml = 'Like what you see? Visit the ' +\n",
              "            '<a target=\"_blank\" href=https://colab.research.google.com/notebooks/data_table.ipynb>data table notebook</a>'\n",
              "            + ' to learn more about interactive tables.';\n",
              "          element.innerHTML = '';\n",
              "          dataTable['output_type'] = 'display_data';\n",
              "          await google.colab.output.renderOutput(dataTable, element);\n",
              "          const docLink = document.createElement('div');\n",
              "          docLink.innerHTML = docLinkHtml;\n",
              "          element.appendChild(docLink);\n",
              "        }\n",
              "      </script>\n",
              "    </div>\n",
              "  </div>\n",
              "  "
            ]
          },
          "metadata": {},
          "execution_count": 10
        }
      ]
    },
    {
      "cell_type": "code",
      "source": [
        "print('Категория товаров, в которой совершается максимальное число покупок')\n",
        "max_category = sorted[sorted['item_cnt_day'] == sorted['item_cnt_day'].max()].merge(item_categories)\n",
        "max_category"
      ],
      "metadata": {
        "colab": {
          "base_uri": "https://localhost:8080/",
          "height": 98
        },
        "id": "RhbmYB6iGHwE",
        "outputId": "1b81a4e4-1e2a-462d-e998-3863329a2c16"
      },
      "execution_count": null,
      "outputs": [
        {
          "output_type": "stream",
          "name": "stdout",
          "text": [
            "Категория товаров, в которой совершается максимальное число покупок\n"
          ]
        },
        {
          "output_type": "execute_result",
          "data": {
            "text/plain": [
              "   category_id  item_cnt_day item_category_name\n",
              "0           40      634171.0       Cinema - DVD"
            ],
            "text/html": [
              "\n",
              "  <div id=\"df-7589899d-3c12-420d-91dc-f02afa64e3be\">\n",
              "    <div class=\"colab-df-container\">\n",
              "      <div>\n",
              "<style scoped>\n",
              "    .dataframe tbody tr th:only-of-type {\n",
              "        vertical-align: middle;\n",
              "    }\n",
              "\n",
              "    .dataframe tbody tr th {\n",
              "        vertical-align: top;\n",
              "    }\n",
              "\n",
              "    .dataframe thead th {\n",
              "        text-align: right;\n",
              "    }\n",
              "</style>\n",
              "<table border=\"1\" class=\"dataframe\">\n",
              "  <thead>\n",
              "    <tr style=\"text-align: right;\">\n",
              "      <th></th>\n",
              "      <th>category_id</th>\n",
              "      <th>item_cnt_day</th>\n",
              "      <th>item_category_name</th>\n",
              "    </tr>\n",
              "  </thead>\n",
              "  <tbody>\n",
              "    <tr>\n",
              "      <th>0</th>\n",
              "      <td>40</td>\n",
              "      <td>634171.0</td>\n",
              "      <td>Cinema - DVD</td>\n",
              "    </tr>\n",
              "  </tbody>\n",
              "</table>\n",
              "</div>\n",
              "      <button class=\"colab-df-convert\" onclick=\"convertToInteractive('df-7589899d-3c12-420d-91dc-f02afa64e3be')\"\n",
              "              title=\"Convert this dataframe to an interactive table.\"\n",
              "              style=\"display:none;\">\n",
              "        \n",
              "  <svg xmlns=\"http://www.w3.org/2000/svg\" height=\"24px\"viewBox=\"0 0 24 24\"\n",
              "       width=\"24px\">\n",
              "    <path d=\"M0 0h24v24H0V0z\" fill=\"none\"/>\n",
              "    <path d=\"M18.56 5.44l.94 2.06.94-2.06 2.06-.94-2.06-.94-.94-2.06-.94 2.06-2.06.94zm-11 1L8.5 8.5l.94-2.06 2.06-.94-2.06-.94L8.5 2.5l-.94 2.06-2.06.94zm10 10l.94 2.06.94-2.06 2.06-.94-2.06-.94-.94-2.06-.94 2.06-2.06.94z\"/><path d=\"M17.41 7.96l-1.37-1.37c-.4-.4-.92-.59-1.43-.59-.52 0-1.04.2-1.43.59L10.3 9.45l-7.72 7.72c-.78.78-.78 2.05 0 2.83L4 21.41c.39.39.9.59 1.41.59.51 0 1.02-.2 1.41-.59l7.78-7.78 2.81-2.81c.8-.78.8-2.07 0-2.86zM5.41 20L4 18.59l7.72-7.72 1.47 1.35L5.41 20z\"/>\n",
              "  </svg>\n",
              "      </button>\n",
              "      \n",
              "  <style>\n",
              "    .colab-df-container {\n",
              "      display:flex;\n",
              "      flex-wrap:wrap;\n",
              "      gap: 12px;\n",
              "    }\n",
              "\n",
              "    .colab-df-convert {\n",
              "      background-color: #E8F0FE;\n",
              "      border: none;\n",
              "      border-radius: 50%;\n",
              "      cursor: pointer;\n",
              "      display: none;\n",
              "      fill: #1967D2;\n",
              "      height: 32px;\n",
              "      padding: 0 0 0 0;\n",
              "      width: 32px;\n",
              "    }\n",
              "\n",
              "    .colab-df-convert:hover {\n",
              "      background-color: #E2EBFA;\n",
              "      box-shadow: 0px 1px 2px rgba(60, 64, 67, 0.3), 0px 1px 3px 1px rgba(60, 64, 67, 0.15);\n",
              "      fill: #174EA6;\n",
              "    }\n",
              "\n",
              "    [theme=dark] .colab-df-convert {\n",
              "      background-color: #3B4455;\n",
              "      fill: #D2E3FC;\n",
              "    }\n",
              "\n",
              "    [theme=dark] .colab-df-convert:hover {\n",
              "      background-color: #434B5C;\n",
              "      box-shadow: 0px 1px 3px 1px rgba(0, 0, 0, 0.15);\n",
              "      filter: drop-shadow(0px 1px 2px rgba(0, 0, 0, 0.3));\n",
              "      fill: #FFFFFF;\n",
              "    }\n",
              "  </style>\n",
              "\n",
              "      <script>\n",
              "        const buttonEl =\n",
              "          document.querySelector('#df-7589899d-3c12-420d-91dc-f02afa64e3be button.colab-df-convert');\n",
              "        buttonEl.style.display =\n",
              "          google.colab.kernel.accessAllowed ? 'block' : 'none';\n",
              "\n",
              "        async function convertToInteractive(key) {\n",
              "          const element = document.querySelector('#df-7589899d-3c12-420d-91dc-f02afa64e3be');\n",
              "          const dataTable =\n",
              "            await google.colab.kernel.invokeFunction('convertToInteractive',\n",
              "                                                     [key], {});\n",
              "          if (!dataTable) return;\n",
              "\n",
              "          const docLinkHtml = 'Like what you see? Visit the ' +\n",
              "            '<a target=\"_blank\" href=https://colab.research.google.com/notebooks/data_table.ipynb>data table notebook</a>'\n",
              "            + ' to learn more about interactive tables.';\n",
              "          element.innerHTML = '';\n",
              "          dataTable['output_type'] = 'display_data';\n",
              "          await google.colab.output.renderOutput(dataTable, element);\n",
              "          const docLink = document.createElement('div');\n",
              "          docLink.innerHTML = docLinkHtml;\n",
              "          element.appendChild(docLink);\n",
              "        }\n",
              "      </script>\n",
              "    </div>\n",
              "  </div>\n",
              "  "
            ]
          },
          "metadata": {},
          "execution_count": 11
        }
      ]
    },
    {
      "cell_type": "markdown",
      "metadata": {
        "id": "a99rnQRwKLLR"
      },
      "source": [
        "## Задание 1.3"
      ]
    },
    {
      "cell_type": "markdown",
      "metadata": {
        "id": "sxh1WWITKLLS"
      },
      "source": [
        "1. Для категорий из задания 2 найдите среднее количество продаж каждого товара категории в 5 магазинах с наибольшими продажами. Оставьте в таблице только те товары, среднее количество продаж которых строго больше 100.\n",
        "2. Найдите месяц с максимальными продажами для каждого товара из пункта 1.\n"
      ]
    },
    {
      "cell_type": "code",
      "execution_count": null,
      "metadata": {
        "id": "aLW3DKBJWA9y"
      },
      "outputs": [],
      "source": [
        "# id магазинов с наибольшими продажами\n",
        "shop_ids = list(sales_train.groupby('shop_id')['item_cnt_day'].agg(sum).sort_values(ascending=False).head().index)\n",
        "category_ids = [51, 10, 40]\n",
        "sales_train_slice = sales_train[sales_train['shop_id'].isin(shop_ids) & sales_train['category_id'].isin(category_ids)]"
      ]
    },
    {
      "cell_type": "code",
      "source": [
        "avg_sales = sales_train_slice.groupby(['item_id', 'date_block_num'])['item_cnt_day'].agg('sum').sort_values().reset_index()\n",
        "avg_sales = avg_sales.groupby('item_id')['item_cnt_day'].agg('mean').sort_values().reset_index().merge(items)\n",
        "max_avg_sales = avg_sales[avg_sales['item_cnt_day'] > 100]\n",
        "max_avg_sales"
      ],
      "metadata": {
        "colab": {
          "base_uri": "https://localhost:8080/",
          "height": 112
        },
        "id": "sJXysHOEJnL1",
        "outputId": "51c2b8a9-3f4e-4e37-9b35-20e4cd7f31b3"
      },
      "execution_count": null,
      "outputs": [
        {
          "output_type": "execute_result",
          "data": {
            "text/plain": [
              "      item_id  item_cnt_day                              item_name  \\\n",
              "4712    16581        101.75                         ARGO OPERATION   \n",
              "4713    21376        174.00  HOBBIT: AN UNDETALIZED JOURNEY (2DVD)   \n",
              "\n",
              "      category_id  \n",
              "4712           40  \n",
              "4713           40  "
            ],
            "text/html": [
              "\n",
              "  <div id=\"df-3bb9bec9-0b8b-4e1c-b511-75c3456fea5c\">\n",
              "    <div class=\"colab-df-container\">\n",
              "      <div>\n",
              "<style scoped>\n",
              "    .dataframe tbody tr th:only-of-type {\n",
              "        vertical-align: middle;\n",
              "    }\n",
              "\n",
              "    .dataframe tbody tr th {\n",
              "        vertical-align: top;\n",
              "    }\n",
              "\n",
              "    .dataframe thead th {\n",
              "        text-align: right;\n",
              "    }\n",
              "</style>\n",
              "<table border=\"1\" class=\"dataframe\">\n",
              "  <thead>\n",
              "    <tr style=\"text-align: right;\">\n",
              "      <th></th>\n",
              "      <th>item_id</th>\n",
              "      <th>item_cnt_day</th>\n",
              "      <th>item_name</th>\n",
              "      <th>category_id</th>\n",
              "    </tr>\n",
              "  </thead>\n",
              "  <tbody>\n",
              "    <tr>\n",
              "      <th>4712</th>\n",
              "      <td>16581</td>\n",
              "      <td>101.75</td>\n",
              "      <td>ARGO OPERATION</td>\n",
              "      <td>40</td>\n",
              "    </tr>\n",
              "    <tr>\n",
              "      <th>4713</th>\n",
              "      <td>21376</td>\n",
              "      <td>174.00</td>\n",
              "      <td>HOBBIT: AN UNDETALIZED JOURNEY (2DVD)</td>\n",
              "      <td>40</td>\n",
              "    </tr>\n",
              "  </tbody>\n",
              "</table>\n",
              "</div>\n",
              "      <button class=\"colab-df-convert\" onclick=\"convertToInteractive('df-3bb9bec9-0b8b-4e1c-b511-75c3456fea5c')\"\n",
              "              title=\"Convert this dataframe to an interactive table.\"\n",
              "              style=\"display:none;\">\n",
              "        \n",
              "  <svg xmlns=\"http://www.w3.org/2000/svg\" height=\"24px\"viewBox=\"0 0 24 24\"\n",
              "       width=\"24px\">\n",
              "    <path d=\"M0 0h24v24H0V0z\" fill=\"none\"/>\n",
              "    <path d=\"M18.56 5.44l.94 2.06.94-2.06 2.06-.94-2.06-.94-.94-2.06-.94 2.06-2.06.94zm-11 1L8.5 8.5l.94-2.06 2.06-.94-2.06-.94L8.5 2.5l-.94 2.06-2.06.94zm10 10l.94 2.06.94-2.06 2.06-.94-2.06-.94-.94-2.06-.94 2.06-2.06.94z\"/><path d=\"M17.41 7.96l-1.37-1.37c-.4-.4-.92-.59-1.43-.59-.52 0-1.04.2-1.43.59L10.3 9.45l-7.72 7.72c-.78.78-.78 2.05 0 2.83L4 21.41c.39.39.9.59 1.41.59.51 0 1.02-.2 1.41-.59l7.78-7.78 2.81-2.81c.8-.78.8-2.07 0-2.86zM5.41 20L4 18.59l7.72-7.72 1.47 1.35L5.41 20z\"/>\n",
              "  </svg>\n",
              "      </button>\n",
              "      \n",
              "  <style>\n",
              "    .colab-df-container {\n",
              "      display:flex;\n",
              "      flex-wrap:wrap;\n",
              "      gap: 12px;\n",
              "    }\n",
              "\n",
              "    .colab-df-convert {\n",
              "      background-color: #E8F0FE;\n",
              "      border: none;\n",
              "      border-radius: 50%;\n",
              "      cursor: pointer;\n",
              "      display: none;\n",
              "      fill: #1967D2;\n",
              "      height: 32px;\n",
              "      padding: 0 0 0 0;\n",
              "      width: 32px;\n",
              "    }\n",
              "\n",
              "    .colab-df-convert:hover {\n",
              "      background-color: #E2EBFA;\n",
              "      box-shadow: 0px 1px 2px rgba(60, 64, 67, 0.3), 0px 1px 3px 1px rgba(60, 64, 67, 0.15);\n",
              "      fill: #174EA6;\n",
              "    }\n",
              "\n",
              "    [theme=dark] .colab-df-convert {\n",
              "      background-color: #3B4455;\n",
              "      fill: #D2E3FC;\n",
              "    }\n",
              "\n",
              "    [theme=dark] .colab-df-convert:hover {\n",
              "      background-color: #434B5C;\n",
              "      box-shadow: 0px 1px 3px 1px rgba(0, 0, 0, 0.15);\n",
              "      filter: drop-shadow(0px 1px 2px rgba(0, 0, 0, 0.3));\n",
              "      fill: #FFFFFF;\n",
              "    }\n",
              "  </style>\n",
              "\n",
              "      <script>\n",
              "        const buttonEl =\n",
              "          document.querySelector('#df-3bb9bec9-0b8b-4e1c-b511-75c3456fea5c button.colab-df-convert');\n",
              "        buttonEl.style.display =\n",
              "          google.colab.kernel.accessAllowed ? 'block' : 'none';\n",
              "\n",
              "        async function convertToInteractive(key) {\n",
              "          const element = document.querySelector('#df-3bb9bec9-0b8b-4e1c-b511-75c3456fea5c');\n",
              "          const dataTable =\n",
              "            await google.colab.kernel.invokeFunction('convertToInteractive',\n",
              "                                                     [key], {});\n",
              "          if (!dataTable) return;\n",
              "\n",
              "          const docLinkHtml = 'Like what you see? Visit the ' +\n",
              "            '<a target=\"_blank\" href=https://colab.research.google.com/notebooks/data_table.ipynb>data table notebook</a>'\n",
              "            + ' to learn more about interactive tables.';\n",
              "          element.innerHTML = '';\n",
              "          dataTable['output_type'] = 'display_data';\n",
              "          await google.colab.output.renderOutput(dataTable, element);\n",
              "          const docLink = document.createElement('div');\n",
              "          docLink.innerHTML = docLinkHtml;\n",
              "          element.appendChild(docLink);\n",
              "        }\n",
              "      </script>\n",
              "    </div>\n",
              "  </div>\n",
              "  "
            ]
          },
          "metadata": {},
          "execution_count": 15
        }
      ]
    },
    {
      "cell_type": "code",
      "source": [
        "sales_train_slice['date'] =  pd.to_datetime(sales_train_slice['date'], format='%d.%m.%Y')\n",
        "sales_train_slice['month'] = sales_train_slice['date'].dt.month"
      ],
      "metadata": {
        "id": "zNNAdcsxOyjV"
      },
      "execution_count": null,
      "outputs": []
    },
    {
      "cell_type": "code",
      "execution_count": null,
      "metadata": {
        "id": "hC0D7NHtXpeM",
        "colab": {
          "base_uri": "https://localhost:8080/",
          "height": 173
        },
        "outputId": "7730c63f-ede3-4a1c-9cba-a3088ad76fd3"
      },
      "outputs": [
        {
          "output_type": "execute_result",
          "data": {
            "text/plain": [
              "      item_id  item_cnt_day                              item_name  \\\n",
              "4712    16581        101.75                         ARGO OPERATION   \n",
              "4713    21376        174.00  HOBBIT: AN UNDETALIZED JOURNEY (2DVD)   \n",
              "\n",
              "      category_id  max_month  \n",
              "4712           40          2  \n",
              "4713           40          4  "
            ],
            "text/html": [
              "\n",
              "  <div id=\"df-82e11a22-2ca1-46f7-be23-bdf3d5681e8d\">\n",
              "    <div class=\"colab-df-container\">\n",
              "      <div>\n",
              "<style scoped>\n",
              "    .dataframe tbody tr th:only-of-type {\n",
              "        vertical-align: middle;\n",
              "    }\n",
              "\n",
              "    .dataframe tbody tr th {\n",
              "        vertical-align: top;\n",
              "    }\n",
              "\n",
              "    .dataframe thead th {\n",
              "        text-align: right;\n",
              "    }\n",
              "</style>\n",
              "<table border=\"1\" class=\"dataframe\">\n",
              "  <thead>\n",
              "    <tr style=\"text-align: right;\">\n",
              "      <th></th>\n",
              "      <th>item_id</th>\n",
              "      <th>item_cnt_day</th>\n",
              "      <th>item_name</th>\n",
              "      <th>category_id</th>\n",
              "      <th>max_month</th>\n",
              "    </tr>\n",
              "  </thead>\n",
              "  <tbody>\n",
              "    <tr>\n",
              "      <th>4712</th>\n",
              "      <td>16581</td>\n",
              "      <td>101.75</td>\n",
              "      <td>ARGO OPERATION</td>\n",
              "      <td>40</td>\n",
              "      <td>2</td>\n",
              "    </tr>\n",
              "    <tr>\n",
              "      <th>4713</th>\n",
              "      <td>21376</td>\n",
              "      <td>174.00</td>\n",
              "      <td>HOBBIT: AN UNDETALIZED JOURNEY (2DVD)</td>\n",
              "      <td>40</td>\n",
              "      <td>4</td>\n",
              "    </tr>\n",
              "  </tbody>\n",
              "</table>\n",
              "</div>\n",
              "      <button class=\"colab-df-convert\" onclick=\"convertToInteractive('df-82e11a22-2ca1-46f7-be23-bdf3d5681e8d')\"\n",
              "              title=\"Convert this dataframe to an interactive table.\"\n",
              "              style=\"display:none;\">\n",
              "        \n",
              "  <svg xmlns=\"http://www.w3.org/2000/svg\" height=\"24px\"viewBox=\"0 0 24 24\"\n",
              "       width=\"24px\">\n",
              "    <path d=\"M0 0h24v24H0V0z\" fill=\"none\"/>\n",
              "    <path d=\"M18.56 5.44l.94 2.06.94-2.06 2.06-.94-2.06-.94-.94-2.06-.94 2.06-2.06.94zm-11 1L8.5 8.5l.94-2.06 2.06-.94-2.06-.94L8.5 2.5l-.94 2.06-2.06.94zm10 10l.94 2.06.94-2.06 2.06-.94-2.06-.94-.94-2.06-.94 2.06-2.06.94z\"/><path d=\"M17.41 7.96l-1.37-1.37c-.4-.4-.92-.59-1.43-.59-.52 0-1.04.2-1.43.59L10.3 9.45l-7.72 7.72c-.78.78-.78 2.05 0 2.83L4 21.41c.39.39.9.59 1.41.59.51 0 1.02-.2 1.41-.59l7.78-7.78 2.81-2.81c.8-.78.8-2.07 0-2.86zM5.41 20L4 18.59l7.72-7.72 1.47 1.35L5.41 20z\"/>\n",
              "  </svg>\n",
              "      </button>\n",
              "      \n",
              "  <style>\n",
              "    .colab-df-container {\n",
              "      display:flex;\n",
              "      flex-wrap:wrap;\n",
              "      gap: 12px;\n",
              "    }\n",
              "\n",
              "    .colab-df-convert {\n",
              "      background-color: #E8F0FE;\n",
              "      border: none;\n",
              "      border-radius: 50%;\n",
              "      cursor: pointer;\n",
              "      display: none;\n",
              "      fill: #1967D2;\n",
              "      height: 32px;\n",
              "      padding: 0 0 0 0;\n",
              "      width: 32px;\n",
              "    }\n",
              "\n",
              "    .colab-df-convert:hover {\n",
              "      background-color: #E2EBFA;\n",
              "      box-shadow: 0px 1px 2px rgba(60, 64, 67, 0.3), 0px 1px 3px 1px rgba(60, 64, 67, 0.15);\n",
              "      fill: #174EA6;\n",
              "    }\n",
              "\n",
              "    [theme=dark] .colab-df-convert {\n",
              "      background-color: #3B4455;\n",
              "      fill: #D2E3FC;\n",
              "    }\n",
              "\n",
              "    [theme=dark] .colab-df-convert:hover {\n",
              "      background-color: #434B5C;\n",
              "      box-shadow: 0px 1px 3px 1px rgba(0, 0, 0, 0.15);\n",
              "      filter: drop-shadow(0px 1px 2px rgba(0, 0, 0, 0.3));\n",
              "      fill: #FFFFFF;\n",
              "    }\n",
              "  </style>\n",
              "\n",
              "      <script>\n",
              "        const buttonEl =\n",
              "          document.querySelector('#df-82e11a22-2ca1-46f7-be23-bdf3d5681e8d button.colab-df-convert');\n",
              "        buttonEl.style.display =\n",
              "          google.colab.kernel.accessAllowed ? 'block' : 'none';\n",
              "\n",
              "        async function convertToInteractive(key) {\n",
              "          const element = document.querySelector('#df-82e11a22-2ca1-46f7-be23-bdf3d5681e8d');\n",
              "          const dataTable =\n",
              "            await google.colab.kernel.invokeFunction('convertToInteractive',\n",
              "                                                     [key], {});\n",
              "          if (!dataTable) return;\n",
              "\n",
              "          const docLinkHtml = 'Like what you see? Visit the ' +\n",
              "            '<a target=\"_blank\" href=https://colab.research.google.com/notebooks/data_table.ipynb>data table notebook</a>'\n",
              "            + ' to learn more about interactive tables.';\n",
              "          element.innerHTML = '';\n",
              "          dataTable['output_type'] = 'display_data';\n",
              "          await google.colab.output.renderOutput(dataTable, element);\n",
              "          const docLink = document.createElement('div');\n",
              "          docLink.innerHTML = docLinkHtml;\n",
              "          element.appendChild(docLink);\n",
              "        }\n",
              "      </script>\n",
              "    </div>\n",
              "  </div>\n",
              "  "
            ]
          },
          "metadata": {},
          "execution_count": 86
        }
      ],
      "source": [
        "max_avg_sales['max_month'] = max_avg_sales.apply(lambda x: list(sales_train_slice[sales_train_slice['item_id'] == x['item_id']].groupby('month')['item_cnt_day'].agg('sum').sort_values(ascending=False).index)[0], axis=1)\n",
        "max_avg_sales"
      ]
    },
    {
      "cell_type": "markdown",
      "metadata": {
        "id": "efml9GzISC9Q"
      },
      "source": [
        "# Задание 2 (pytorch + matplotlib)"
      ]
    },
    {
      "cell_type": "markdown",
      "metadata": {
        "id": "_hy7PFz031Wx"
      },
      "source": [
        "Пусть $f(x) = 3\\sin(x) * x$+5. Постройте график $f(x)$ и $\\frac{df(x)}{dx}$, для расчета производных воспользуйтесь методом [`backward()`](https://pytorch.org/docs/stable/generated/torch.Tensor.backward.html) и matplotlib для построения графиков. Графики функции и производной разместить на одном изображении."
      ]
    },
    {
      "cell_type": "code",
      "execution_count": null,
      "metadata": {
        "id": "gFHLdNWUYMk4"
      },
      "outputs": [],
      "source": [
        "x = []\n",
        "y = []\n",
        "dy = []\n",
        "for i in np.arange(-10, 10, 0.1):\n",
        "  x_i = torch.tensor(float(i), requires_grad=True)\n",
        "  x.append(x_i.detach().numpy())\n",
        "\n",
        "  y_i = 3 * x_i * torch.sin(x_i) + 5\n",
        "  y.append(y_i.detach().numpy())\n",
        "\n",
        "  y_i.backward()\n",
        "  dy.append(x_i.grad)"
      ]
    },
    {
      "cell_type": "code",
      "execution_count": null,
      "metadata": {
        "colab": {
          "base_uri": "https://localhost:8080/",
          "height": 458
        },
        "id": "wUL7PrbgdhmB",
        "outputId": "32ae44dc-4cc7-476b-a8c2-3969d03fbf19"
      },
      "outputs": [
        {
          "output_type": "display_data",
          "data": {
            "text/plain": [
              "<Figure size 864x576 with 1 Axes>"
            ],
            "image/png": "[encoded data removed]"
          },
          "metadata": {
            "needs_background": "light"
          }
        }
      ],
      "source": [
        "plt.figure(figsize=(12, 8))\n",
        "plt.plot(x, y, color='blue', label='Function')\n",
        "plt.plot(x, dy, color='yellow', label='Derivative')\n",
        "plt.legend(loc='upper left')\n",
        "plt.grid()\n",
        "plt.xlabel('x')\n",
        "plt.ylabel('f (x)')\n",
        "plt.show()\n",
        "# подписать оси"
      ]
    },
    {
      "cell_type": "markdown",
      "metadata": {
        "id": "BsNwjQDRfmLY"
      },
      "source": [
        "# Задание 3 (scipy + matplotlib)"
      ]
    },
    {
      "cell_type": "markdown",
      "metadata": {
        "id": "zxRIdPO9gYyX"
      },
      "source": [
        "Дано две функции:\n",
        "\n",
        "\\begin{matrix} F(x) = a_{11}x^2 + a_{12}x + a_{13}&(1) \\\\ P(x) = a_{21}x^2+a_{22}x + a_{23} &(2) \\end{matrix}\n",
        "​\n",
        "* На вход программа должна принимать 2 строки (т.е. должен быть реализован ввод с клавиатуры). Каждая строка содержит 3 действительных числа через пробел: коэффициенты $a$.\n",
        "* Необходимо найти точки экстремума функций (например, через функцию [`minimize_scalar()`](https://docs.scipy.org/doc/scipy/reference/generated/scipy.optimize.minimize_scalar.html), [`fmin()`](https://docs.scipy.org/doc/scipy/reference/generated/scipy.optimize.fmin.html) и др.) и определить, есть ли у функций общие решения при введенных коэффициентах на некотором диапазоне значений $x$, предусмотрев ситуации, когда решение есть, решений нет и решений бесконечно много. Ответ вывести. В случае, если решения есть (или их бесконечно много), необходимо построить график, на котором построены графики обеих функций, отмечены эти решения и экстремумы функций (другим цветом).\n"
      ]
    },
    {
      "cell_type": "code",
      "execution_count": null,
      "metadata": {
        "id": "AdIdd61D9d5U"
      },
      "outputs": [],
      "source": [
        "def ex3(a1, a2):\n",
        "  def f(x):\n",
        "    return a1[0] * x * x + a1[1] * x + a1[2]\n",
        "\n",
        "  def p(x):\n",
        "    return a2[0] * x * x + a2[1] * x + a2[2]\n",
        "\n",
        "  ext1 = None\n",
        "  if a1[0] == 0:\n",
        "    print('У функции F(x) экстремумов нет')\n",
        "  elif a1[0] < 0:\n",
        "    a1 = [-i for i in a1]\n",
        "    ext1 = round(minimize_scalar(f).x, 3)\n",
        "    a1 = [-i for i in a1]\n",
        "    print('Точка максимума F(x), x_max =', ext1)\n",
        "  else:\n",
        "    ext1 = round(minimize_scalar(f).x, 3)\n",
        "    print('Точка минимума F(x), x_min =', ext1)\n",
        "\n",
        "  ext2 = None\n",
        "  if a2[0] == 0:\n",
        "    print('У функции P(x) экстремумов нет')\n",
        "  elif a2[0] < 0:\n",
        "    a2 = [-i for i in a2]\n",
        "    ext2 = round(minimize_scalar(p).x, 3)\n",
        "    a2 = [-i for i in a2]\n",
        "    print('Точка максимума P(x), x_max =', ext2)\n",
        "  else:\n",
        "    ext2 = round(minimize_scalar(p).x, 3)\n",
        "    print('Точка минимума P(x), x_min =', ext2)\n",
        "\n",
        "  flag = False\n",
        "  x1 = None\n",
        "  x2 = None\n",
        "  if (a1[0] == a2[0]) & (a1[1] == a2[1]) & (a1[2] == a2[2]):\n",
        "    print('Решений бесконечно много')\n",
        "    flag = True\n",
        "  else:\n",
        "    # приравняем правые части функций, получаем уравнение вида a*x^2 + b*x + c = 0\n",
        "    a = a1[0] - a2[0]\n",
        "    b = a1[1] - a2[1]\n",
        "    c = a1[2] - a2[2]\n",
        "    if a != 0:\n",
        "      D = b * b - 4 * a * c\n",
        "      if D > 0:\n",
        "        flag = True\n",
        "        # Одна/две точки пересечения\n",
        "        x1 = (- b + np.sqrt(D))/ (2 * a)\n",
        "        x2 = (- b - np.sqrt(D))/ (2 * a)\n",
        "        print('Два решения', x1, x2)\n",
        "      elif D == 0:\n",
        "        flag = True\n",
        "        x1 = -b / (2 * a)\n",
        "        print('Одно решение', x1)\n",
        "      else:\n",
        "        print('Решений нет')\n",
        "    elif b != 0:\n",
        "      flag = True\n",
        "      x1 = - c / b\n",
        "      print('Одно решение', x1)\n",
        "    elif c != 0:\n",
        "      print('Решений нет')\n",
        "\n",
        "  if flag == True:\n",
        "    x_vals = []\n",
        "    f_vals = []\n",
        "    p_vals = []\n",
        "\n",
        "    plt_min = -10\n",
        "    plt_max = 10\n",
        "    step = 0.1\n",
        "\n",
        "    if x1 is not None:\n",
        "      if x2 is not None:\n",
        "        plt_min = min(x1, x2) - 3\n",
        "        plt_max = max(x1, x2) + 3\n",
        "        step = (plt_max - plt_min) / 1000\n",
        "      else:\n",
        "        plt_min = x1 - 3\n",
        "        plt_max = x1 + 3\n",
        "\n",
        "    for i in np.arange(plt_min, plt_max, step):\n",
        "      x_vals.append(i)\n",
        "      f_vals.append(f(i))\n",
        "      p_vals.append(p(i))\n",
        "\n",
        "    plt.figure(figsize=(12, 8))\n",
        "    plt.plot(x_vals, f_vals, color='yellow', label='F(x)')\n",
        "    plt.plot(x_vals, p_vals, color='blue', label='P(x)')\n",
        "    if x1 is None and x2 is None:\n",
        "      plt.text(plt_min,f(plt_min), \"Бесконечно много решений\")\n",
        "    if x1 is not None:\n",
        "      plt.scatter(x1, f(x1), s=50, color='black')\n",
        "    if x2 is not None:\n",
        "      plt.scatter(x2, f(x2), s=50, color='black')\n",
        "    if ext1 is not None:\n",
        "      plt.scatter(ext1, f(ext1), s=50, color='orange', label='ext_1')\n",
        "    if ext2 is not None:\n",
        "      plt.scatter(ext2, p(ext2), s=50, color='cyan', label='ext_2')\n",
        "    plt.legend(loc='upper left')\n",
        "    plt.xlabel('x')\n",
        "    plt.ylabel('y')\n",
        "    plt.grid()\n",
        "    plt.show()"
      ]
    },
    {
      "cell_type": "code",
      "execution_count": null,
      "metadata": {
        "colab": {
          "base_uri": "https://localhost:8080/"
        },
        "id": "6sxlcLbVlrjl",
        "outputId": "c1dadfdb-be61-4b2c-a464-726a4eee5cd7"
      },
      "outputs": [
        {
          "output_type": "stream",
          "name": "stdout",
          "text": [
            "Введите коэффициенты для F(x)\n",
            "1 2 3\n",
            "F(x) = 1.0 * x^2 + 2.0 * x + 3.0\n",
            "\n",
            "Введите коэффициенты для P(x)\n",
            "1 2 2\n",
            "P(x) = 1.0 * x^2 + 2.0 * x + 2.0\n",
            "Точка минимума F(x), x_min = -1.0\n",
            "Точка минимума P(x), x_min = -1.0\n",
            "Решений нет\n"
          ]
        }
      ],
      "source": [
        "print('Введите коэффициенты для F(x)')\n",
        "a1 = input()\n",
        "a1 = list(map(float, a1.split()))\n",
        "print(f\"F(x) = {a1[0]} * x^2 + {a1[1]} * x + {a1[2]}\")\n",
        "print()\n",
        "\n",
        "print('Введите коэффициенты для P(x)')\n",
        "a2 = input()\n",
        "a2 = list(map(float, a2.split()))\n",
        "print(f'P(x) = {a2[0]} * x^2 + {a2[1]} * x + {a2[2]}')\n",
        "\n",
        "ex3(a1, a2)"
      ]
    },
    {
      "cell_type": "code",
      "source": [
        "print('Пример 1. Две параболы, бесконечно много решений')\n",
        "ex3([1.0, 2.0, 3.0], [1.0, 2.0, 3.0])"
      ],
      "metadata": {
        "colab": {
          "base_uri": "https://localhost:8080/",
          "height": 529
        },
        "id": "9zDBQbGqSDhx",
        "outputId": "326c9563-3fff-400f-b065-1311ffd17356"
      },
      "execution_count": null,
      "outputs": [
        {
          "output_type": "stream",
          "name": "stdout",
          "text": [
            "Пример 1. Две параболы, бесконечно много решений\n",
            "Точка минимума F(x), x_min = -1.0\n",
            "Точка минимума P(x), x_min = -1.0\n",
            "Решений бесконечно много\n"
          ]
        },
        {
          "output_type": "display_data",
          "data": {
            "text/plain": [
              "<Figure size 864x576 with 1 Axes>"
            ],
            "image/png": "[encoded data removed]"
          },
          "metadata": {
            "needs_background": "light"
          }
        }
      ]
    },
    {
      "cell_type": "code",
      "source": [
        "print('Пример 2. Две параболы, два общих решения')\n",
        "ex3([1.0, 0.0, -1.0], [-1.0, 0.0, 1.0])"
      ],
      "metadata": {
        "colab": {
          "base_uri": "https://localhost:8080/",
          "height": 527
        },
        "id": "5X64mW6cSbHd",
        "outputId": "b7066e42-9d4d-411e-aa06-f9cb1e79100d"
      },
      "execution_count": null,
      "outputs": [
        {
          "output_type": "stream",
          "name": "stdout",
          "text": [
            "Пример 2. Две параболы, два общих решения\n",
            "Точка минимума F(x), x_min = 0.0\n",
            "Точка максимума P(x), x_max = 0.0\n",
            "Два решения 1.0 -1.0\n"
          ]
        },
        {
          "output_type": "display_data",
          "data": {
            "text/plain": [
              "<Figure size 864x576 with 1 Axes>"
            ],
            "image/png": "[encoded data removed]"
          },
          "metadata": {
            "needs_background": "light"
          }
        }
      ]
    },
    {
      "cell_type": "code",
      "source": [
        "print('Пример 3. Две параболы, одно общее решениe')\n",
        "ex3([1.0, 0.0, 0.0], [-1.0, 0.0, 0.0])"
      ],
      "metadata": {
        "colab": {
          "base_uri": "https://localhost:8080/",
          "height": 525
        },
        "id": "6NV3tgQ0SqRp",
        "outputId": "d928b4df-549f-42a5-fcc1-575663458eb2"
      },
      "execution_count": null,
      "outputs": [
        {
          "output_type": "stream",
          "name": "stdout",
          "text": [
            "Пример 3. Две параболы, одно общее решениe\n",
            "Точка минимума F(x), x_min = 0.0\n",
            "Точка максимума P(x), x_max = 0.0\n",
            "Одно решение -0.0\n"
          ]
        },
        {
          "output_type": "display_data",
          "data": {
            "text/plain": [
              "<Figure size 864x576 with 1 Axes>"
            ],
            "image/png": "[encoded data removed]"
          },
          "metadata": {
            "needs_background": "light"
          }
        }
      ]
    },
    {
      "cell_type": "code",
      "source": [
        "print('Пример 4. Две параболы, общих решений нет')\n",
        "ex3([1.0, 0.0, 1.0], [-1.0, 0.0, -1.0])"
      ],
      "metadata": {
        "colab": {
          "base_uri": "https://localhost:8080/"
        },
        "id": "MGpz9qhlU2zH",
        "outputId": "62b339cf-1bb1-442c-f87d-a91bab1b243f"
      },
      "execution_count": null,
      "outputs": [
        {
          "output_type": "stream",
          "name": "stdout",
          "text": [
            "Пример 4. Две параболы, общих решений нет\n",
            "Точка минимума F(x), x_min = 0.0\n",
            "Точка максимума P(x), x_max = 0.0\n",
            "Решений нет\n"
          ]
        }
      ]
    },
    {
      "cell_type": "code",
      "source": [
        "print('Пример 5. Парабола и прямая, два общих решения')\n",
        "ex3([1.0, 0.0, 0.0], [0.0, 0.0, 3.0])"
      ],
      "metadata": {
        "colab": {
          "base_uri": "https://localhost:8080/",
          "height": 532
        },
        "id": "bHys42HZVNUQ",
        "outputId": "d8ebc1c2-3603-4639-ee0e-5347ce532e1a"
      },
      "execution_count": null,
      "outputs": [
        {
          "output_type": "stream",
          "name": "stdout",
          "text": [
            "Пример 5. Парабола и прямая, два общих решения\n",
            "Точка минимума F(x), x_min = 0.0\n",
            "У функции P(x) экстремумов нет\n",
            "Два решения 1.7320508075688772 -1.7320508075688772\n"
          ]
        },
        {
          "output_type": "display_data",
          "data": {
            "text/plain": [
              "<Figure size 864x576 with 1 Axes>"
            ],
            "image/png": "[encoded data removed]"
          },
          "metadata": {
            "needs_background": "light"
          }
        }
      ]
    },
    {
      "cell_type": "code",
      "source": [
        "print('Пример 6. Парабола и прямая, одно общее решение')\n",
        "ex3([1.0, 0.0, 0.0], [0.0, 2.0, -1.0])"
      ],
      "metadata": {
        "colab": {
          "base_uri": "https://localhost:8080/",
          "height": 525
        },
        "id": "QZMVQ_H8VheX",
        "outputId": "61dd76ab-4a8f-4a1c-e51b-f3897245b386"
      },
      "execution_count": null,
      "outputs": [
        {
          "output_type": "stream",
          "name": "stdout",
          "text": [
            "Пример 6. Парабола и прямая, одно общее решение\n",
            "Точка минимума F(x), x_min = 0.0\n",
            "У функции P(x) экстремумов нет\n",
            "Одно решение 1.0\n"
          ]
        },
        {
          "output_type": "display_data",
          "data": {
            "text/plain": [
              "<Figure size 864x576 with 1 Axes>"
            ],
            "image/png": "[encoded data removed]"
          },
          "metadata": {
            "needs_background": "light"
          }
        }
      ]
    },
    {
      "cell_type": "code",
      "source": [
        "print('Пример 7. Парабола и прямая, общих решений нет')\n",
        "ex3([1.0, 0.0, 0.0], [0.0, 0.0, -1.0])"
      ],
      "metadata": {
        "colab": {
          "base_uri": "https://localhost:8080/"
        },
        "id": "MMvzGpdhWV63",
        "outputId": "8c9f6700-016d-420d-801e-c9cfd4c0f2c4"
      },
      "execution_count": null,
      "outputs": [
        {
          "output_type": "stream",
          "name": "stdout",
          "text": [
            "Пример 7. Парабола и прямая, общих решений нет\n",
            "Точка минимума F(x), x_min = 0.0\n",
            "У функции P(x) экстремумов нет\n",
            "Решений нет\n"
          ]
        }
      ]
    },
    {
      "cell_type": "code",
      "source": [
        "print('Пример 8. Две прямые, бесконечно много решений')\n",
        "ex3([0.0, 1.0, 1.0], [0.0, 1.0, 1.0])"
      ],
      "metadata": {
        "colab": {
          "base_uri": "https://localhost:8080/",
          "height": 525
        },
        "id": "VtoQQzHRWfEw",
        "outputId": "34a47c88-ee30-4bd2-e314-545fc17aaa7e"
      },
      "execution_count": null,
      "outputs": [
        {
          "output_type": "stream",
          "name": "stdout",
          "text": [
            "Пример 8. Две прямые, бесконечно много решений\n",
            "У функции F(x) экстремумов нет\n",
            "У функции P(x) экстремумов нет\n",
            "Решений бесконечно много\n"
          ]
        },
        {
          "output_type": "display_data",
          "data": {
            "text/plain": [
              "<Figure size 864x576 with 1 Axes>"
            ],
            "image/png": "[encoded data removed]"
          },
          "metadata": {
            "needs_background": "light"
          }
        }
      ]
    },
    {
      "cell_type": "code",
      "source": [
        "print('Пример 9. Две прямые, одно общее решение')\n",
        "ex3([0.0, 1.0, 1.0], [0.0, -1.0, 2.0])"
      ],
      "metadata": {
        "colab": {
          "base_uri": "https://localhost:8080/",
          "height": 531
        },
        "id": "7xLknHp8Wu_H",
        "outputId": "9ea44674-e9ec-479b-a1b6-5c40a4d2bc11"
      },
      "execution_count": null,
      "outputs": [
        {
          "output_type": "stream",
          "name": "stdout",
          "text": [
            "Пример 9. Две прямые, одно общее решение\n",
            "У функции F(x) экстремумов нет\n",
            "У функции P(x) экстремумов нет\n",
            "Одно решение 0.5\n"
          ]
        },
        {
          "output_type": "display_data",
          "data": {
            "text/plain": [
              "<Figure size 864x576 with 1 Axes>"
            ],
            "image/png": "[encoded data removed]"
          },
          "metadata": {
            "needs_background": "light"
          }
        }
      ]
    },
    {
      "cell_type": "code",
      "source": [
        "print('Пример 10. Две прямые, общих решений нет')\n",
        "ex3([0.0, 1.0, 1.0], [0.0, 1.0, 2.0])"
      ],
      "metadata": {
        "colab": {
          "base_uri": "https://localhost:8080/"
        },
        "id": "6Bk7vgzoWyus",
        "outputId": "cda0f1ad-6e88-426f-f435-7c1f2d909069"
      },
      "execution_count": null,
      "outputs": [
        {
          "output_type": "stream",
          "name": "stdout",
          "text": [
            "Пример 10. Две прямые, общих решений нет\n",
            "У функции F(x) экстремумов нет\n",
            "У функции P(x) экстремумов нет\n",
            "Решений нет\n"
          ]
        }
      ]
    }
  ],
  "metadata": {
    "colab": {
      "provenance": []
    },
    "kernelspec": {
      "display_name": "Python 3",
      "name": "python3"
    },
    "language_info": {
      "name": "python"
    }
  },
  "nbformat": 4,
  "nbformat_minor": 0
}